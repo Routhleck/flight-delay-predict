{
 "cells": [
  {
   "cell_type": "markdown",
   "metadata": {
    "pycharm": {
     "name": "#%% md\n"
    }
   },
   "source": [
    "# 模型实验"
   ]
  },
  {
   "cell_type": "code",
   "execution_count": 1,
   "metadata": {
    "collapsed": false,
    "pycharm": {
     "name": "#%%\n"
    }
   },
   "outputs": [],
   "source": [
    "from train import train_test\n",
    "import pandas as pd\n",
    "import csv"
   ]
  },
  {
   "cell_type": "code",
   "execution_count": 2,
   "metadata": {},
   "outputs": [
    {
     "name": "stderr",
     "output_type": "stream",
     "text": [
      "Intel(R) Extension for Scikit-learn* enabled (https://github.com/intel/scikit-learn-intelex)\n"
     ]
    }
   ],
   "source": [
    "from sklearnex import patch_sklearn\n",
    "patch_sklearn()"
   ]
  },
  {
   "cell_type": "code",
   "execution_count": 4,
   "metadata": {
    "collapsed": false,
    "pycharm": {
     "name": "#%%\n"
    }
   },
   "outputs": [
    {
     "name": "stdout",
     "output_type": "stream",
     "text": [
      "读取完成\n",
      "划分完成\n",
      "开始建模\n",
      "{'objective': 'multi:softmax', 'use_label_encoder': False, 'base_score': None, 'booster': 'gbtree', 'callbacks': None, 'colsample_bylevel': None, 'colsample_bynode': None, 'colsample_bytree': 1, 'early_stopping_rounds': None, 'enable_categorical': False, 'eval_metric': None, 'gamma': 0, 'gpu_id': None, 'grow_policy': None, 'importance_type': None, 'interaction_constraints': None, 'learning_rate': 0.5, 'max_bin': None, 'max_cat_to_onehot': None, 'max_delta_step': None, 'max_depth': 9, 'max_leaves': None, 'min_child_weight': 8, 'missing': nan, 'monotone_constraints': None, 'n_estimators': 200, 'n_jobs': -1, 'num_parallel_tree': None, 'predictor': None, 'random_state': None, 'reg_alpha': 1e-05, 'reg_lambda': None, 'sampling_method': None, 'scale_pos_weight': None, 'subsample': 1, 'tree_method': None, 'validate_parameters': None, 'verbosity': None}\n",
      "拟合完成\n",
      "reg_alpha:1e-05//0.5374338045960259,//0.5374338045960259,//0.5253950717085044,//0.5153284665266038\n",
      "读取完成\n",
      "划分完成\n",
      "开始建模\n",
      "{'objective': 'multi:softmax', 'use_label_encoder': False, 'base_score': None, 'booster': 'gbtree', 'callbacks': None, 'colsample_bylevel': None, 'colsample_bynode': None, 'colsample_bytree': 1, 'early_stopping_rounds': None, 'enable_categorical': False, 'eval_metric': None, 'gamma': 0, 'gpu_id': None, 'grow_policy': None, 'importance_type': None, 'interaction_constraints': None, 'learning_rate': 0.5, 'max_bin': None, 'max_cat_to_onehot': None, 'max_delta_step': None, 'max_depth': 9, 'max_leaves': None, 'min_child_weight': 8, 'missing': nan, 'monotone_constraints': None, 'n_estimators': 200, 'n_jobs': -1, 'num_parallel_tree': None, 'predictor': None, 'random_state': None, 'reg_alpha': 0.01, 'reg_lambda': None, 'sampling_method': None, 'scale_pos_weight': None, 'subsample': 1, 'tree_method': None, 'validate_parameters': None, 'verbosity': None}\n",
      "拟合完成\n",
      "reg_alpha:0.01//0.5352475343730263,//0.5352475343730263,//0.5216409960938244,//0.5123024545767124\n",
      "读取完成\n",
      "划分完成\n",
      "开始建模\n",
      "{'objective': 'multi:softmax', 'use_label_encoder': False, 'base_score': None, 'booster': 'gbtree', 'callbacks': None, 'colsample_bylevel': None, 'colsample_bynode': None, 'colsample_bytree': 1, 'early_stopping_rounds': None, 'enable_categorical': False, 'eval_metric': None, 'gamma': 0, 'gpu_id': None, 'grow_policy': None, 'importance_type': None, 'interaction_constraints': None, 'learning_rate': 0.5, 'max_bin': None, 'max_cat_to_onehot': None, 'max_delta_step': None, 'max_depth': 9, 'max_leaves': None, 'min_child_weight': 8, 'missing': nan, 'monotone_constraints': None, 'n_estimators': 200, 'n_jobs': -1, 'num_parallel_tree': None, 'predictor': None, 'random_state': None, 'reg_alpha': 0.1, 'reg_lambda': None, 'sampling_method': None, 'scale_pos_weight': None, 'subsample': 1, 'tree_method': None, 'validate_parameters': None, 'verbosity': None}\n",
      "拟合完成\n",
      "reg_alpha:0.1//0.5381625613370257,//0.5381625613370257,//0.5251545789820535,//0.5153652877063777\n",
      "读取完成\n",
      "划分完成\n",
      "开始建模\n",
      "{'objective': 'multi:softmax', 'use_label_encoder': False, 'base_score': None, 'booster': 'gbtree', 'callbacks': None, 'colsample_bylevel': None, 'colsample_bynode': None, 'colsample_bytree': 1, 'early_stopping_rounds': None, 'enable_categorical': False, 'eval_metric': None, 'gamma': 0, 'gpu_id': None, 'grow_policy': None, 'importance_type': None, 'interaction_constraints': None, 'learning_rate': 0.5, 'max_bin': None, 'max_cat_to_onehot': None, 'max_delta_step': None, 'max_depth': 9, 'max_leaves': None, 'min_child_weight': 8, 'missing': nan, 'monotone_constraints': None, 'n_estimators': 200, 'n_jobs': -1, 'num_parallel_tree': None, 'predictor': None, 'random_state': None, 'reg_alpha': 1, 'reg_lambda': None, 'sampling_method': None, 'scale_pos_weight': None, 'subsample': 1, 'tree_method': None, 'validate_parameters': None, 'verbosity': None}\n",
      "拟合完成\n",
      "reg_alpha:1//0.5393285721226254,//0.5393285721226254,//0.5276323713012144,//0.5174457010281116\n",
      "读取完成\n",
      "划分完成\n",
      "开始建模\n",
      "{'objective': 'multi:softmax', 'use_label_encoder': False, 'base_score': None, 'booster': 'gbtree', 'callbacks': None, 'colsample_bylevel': None, 'colsample_bynode': None, 'colsample_bytree': 1, 'early_stopping_rounds': None, 'enable_categorical': False, 'eval_metric': None, 'gamma': 0, 'gpu_id': None, 'grow_policy': None, 'importance_type': None, 'interaction_constraints': None, 'learning_rate': 0.5, 'max_bin': None, 'max_cat_to_onehot': None, 'max_delta_step': None, 'max_depth': 9, 'max_leaves': None, 'min_child_weight': 8, 'missing': nan, 'monotone_constraints': None, 'n_estimators': 200, 'n_jobs': -1, 'num_parallel_tree': None, 'predictor': None, 'random_state': None, 'reg_alpha': 100, 'reg_lambda': None, 'sampling_method': None, 'scale_pos_weight': None, 'subsample': 1, 'tree_method': None, 'validate_parameters': None, 'verbosity': None}\n",
      "拟合完成\n",
      "reg_alpha:100//0.5245833940630618,//0.5245833940630618,//0.5129977335638813,//0.49321530912765055\n"
     ]
    }
   ],
   "source": [
    "# 创建csv文件 # 'max_depth', 'learning_rate', 'exp', 'mae', 'mse', 'r2'\n",
    "'''\n",
    "with open('result.csv', 'a', newline='') as csvfile:\n",
    "    writer = csv.writer(csvfile)\n",
    "    writer.writerow(['regalpha', '', 'ACC', 'RECALL', 'PREC', 'F1'])\n",
    "'''\n",
    "'''\n",
    "for max_depth in (8, 9, 10):\n",
    "    for min_child_weight in (6, 8, 10):\n",
    "        ACC, RECALL, PREC, F1 = train_test(max_depth=max_depth, learning_rate=0.5, objective='multi:softmax', booster='gbtree', n_jobs=-1, min_child_weight=min_child_weight, gamma=0.1, subsample=0.8, colsample_bytree=0.8)\n",
    "        print('max_depth:{} min_child_weight:{} //{},//{},//{},//{}'.format(max_depth, min_child_weight, ACC, RECALL, PREC, F1))\n",
    "        with open('result.csv', 'a', newline='') as csvfile:\n",
    "            writer = csv.writer(csvfile)\n",
    "            writer.writerow([max_depth, min_child_weight, ACC, RECALL, PREC, F1])\n",
    "'''\n",
    "'''\n",
    "for subsample in (0.6, 0.7, 0.8, 0.9, 1.0):\n",
    "        colsample_bytree = subsample\n",
    "        ACC, RECALL, PREC, F1 = train_test(max_depth=9, learning_rate=0.5, objective='multi:softmax', booster='gbtree', n_jobs=-1, min_child_weight=8, gamma=0, subsample=subsample, colsample_bytree=colsample_bytree)\n",
    "        print('subsample:{} colsample_bytree:{} //{},//{},//{},//{}'.format(subsample, colsample_bytree, ACC, RECALL, PREC, F1))\n",
    "        with open('result.csv', 'a', newline='') as csvfile:\n",
    "            writer = csv.writer(csvfile)\n",
    "            writer.writerow([subsample, colsample_bytree, ACC, RECALL, PREC, F1])\n",
    "'''\n",
    "for reg_alpha in (0.5, 5):\n",
    "        ACC, RECALL, PREC, F1 = train_test(max_depth=9, learning_rate=0.5, objective='multi:softmax', booster='gbtree', n_jobs=-1, min_child_weight=8, gamma=0, subsample=1, colsample_bytree=1, reg_alpha=reg_alpha)\n",
    "        print('reg_alpha:{}//{},//{},//{},//{}'.format(reg_alpha, ACC, RECALL, PREC, F1))\n",
    "        with open('result.csv', 'a', newline='') as csvfile:\n",
    "            writer = csv.writer(csvfile)\n",
    "            writer.writerow([reg_alpha, ACC, RECALL, PREC, F1])\n",
    "\n",
    "\n"
   ]
  },
  {
   "cell_type": "code",
   "execution_count": null,
   "metadata": {},
   "outputs": [],
   "source": []
  }
 ],
 "metadata": {
  "kernelspec": {
   "display_name": "Python 3.9.13 64-bit",
   "language": "python",
   "name": "python3"
  },
  "language_info": {
   "codemirror_mode": {
    "name": "ipython",
    "version": 3
   },
   "file_extension": ".py",
   "mimetype": "text/x-python",
   "name": "python",
   "nbconvert_exporter": "python",
   "pygments_lexer": "ipython3",
   "version": "3.9.13"
  },
  "orig_nbformat": 4,
  "vscode": {
   "interpreter": {
    "hash": "6efa788cb94cb17b6d18a0713a162526dde847b9fce190a5e1ec27ce6e1c4702"
   }
  }
 },
 "nbformat": 4,
 "nbformat_minor": 2
}
