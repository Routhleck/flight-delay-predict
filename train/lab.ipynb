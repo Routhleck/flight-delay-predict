{
 "cells": [
  {
   "cell_type": "markdown",
   "metadata": {
    "pycharm": {
     "name": "#%% md\n"
    }
   },
   "source": [
    "# 模型实验"
   ]
  },
  {
   "cell_type": "code",
   "execution_count": 1,
   "metadata": {
    "collapsed": false,
    "pycharm": {
     "name": "#%%\n"
    }
   },
   "outputs": [],
   "source": [
    "from train import train_test\n",
    "import pandas as pd\n",
    "import csv"
   ]
  },
  {
   "cell_type": "code",
   "execution_count": 2,
   "metadata": {
    "collapsed": false,
    "pycharm": {
     "name": "#%%\n"
    }
   },
   "outputs": [
    {
     "ename": "AttributeError",
     "evalue": "'function' object has no attribute 'dropna'",
     "output_type": "error",
     "traceback": [
      "\u001b[1;31m---------------------------------------------------------------------------\u001b[0m",
      "\u001b[1;31mAttributeError\u001b[0m                            Traceback (most recent call last)",
      "\u001b[1;32mf:\\1GIT\\flight-delay-predict\\train\\lab.ipynb Cell 3\u001b[0m in \u001b[0;36m<cell line: 8>\u001b[1;34m()\u001b[0m\n\u001b[0;32m      <a href='vscode-notebook-cell:/f%3A/1GIT/flight-delay-predict/train/lab.ipynb#ch0000002?line=6'>7</a>\u001b[0m data_train \u001b[39m=\u001b[39m pd\u001b[39m.\u001b[39mread_csv(\u001b[39m'\u001b[39m\u001b[39m../dataset/flight_final.csv\u001b[39m\u001b[39m'\u001b[39m, encoding\u001b[39m=\u001b[39m \u001b[39m'\u001b[39m\u001b[39mutf-8\u001b[39m\u001b[39m'\u001b[39m)\n\u001b[0;32m      <a href='vscode-notebook-cell:/f%3A/1GIT/flight-delay-predict/train/lab.ipynb#ch0000002?line=7'>8</a>\u001b[0m \u001b[39mfor\u001b[39;00m learning_rate \u001b[39min\u001b[39;00m (\u001b[39m0.1\u001b[39m,\u001b[39m0.15\u001b[39m,\u001b[39m0.2\u001b[39m,\u001b[39m0.25\u001b[39m,\u001b[39m0.3\u001b[39m):\n\u001b[1;32m----> <a href='vscode-notebook-cell:/f%3A/1GIT/flight-delay-predict/train/lab.ipynb#ch0000002?line=8'>9</a>\u001b[0m     ACC, RECALL, PREC, F1 \u001b[39m=\u001b[39m train_test(max_depth\u001b[39m=\u001b[39;49m\u001b[39m5\u001b[39;49m, learning_rate\u001b[39m=\u001b[39;49mlearning_rate, objective\u001b[39m=\u001b[39;49m\u001b[39m'\u001b[39;49m\u001b[39mmulti:softprob\u001b[39;49m\u001b[39m'\u001b[39;49m, booster\u001b[39m=\u001b[39;49m\u001b[39m'\u001b[39;49m\u001b[39mgbtree\u001b[39;49m\u001b[39m'\u001b[39;49m, n_jobs\u001b[39m=\u001b[39;49m\u001b[39m4\u001b[39;49m, min_child_weight\u001b[39m=\u001b[39;49m\u001b[39m6\u001b[39;49m, gamma\u001b[39m=\u001b[39;49m\u001b[39m0.1\u001b[39;49m, subsample\u001b[39m=\u001b[39;49m\u001b[39m0.8\u001b[39;49m, colsample_bytree\u001b[39m=\u001b[39;49m\u001b[39m0.8\u001b[39;49m, scale_pos_weight\u001b[39m=\u001b[39;49m\u001b[39m1\u001b[39;49m,data_train \u001b[39m=\u001b[39;49m train_test)\n\u001b[0;32m     <a href='vscode-notebook-cell:/f%3A/1GIT/flight-delay-predict/train/lab.ipynb#ch0000002?line=9'>10</a>\u001b[0m     \u001b[39mprint\u001b[39m(\u001b[39m'\u001b[39m\u001b[39mmax_depth:\u001b[39m\u001b[39m{}\u001b[39;00m\u001b[39m min_child_weight:\u001b[39m\u001b[39m{}\u001b[39;00m\u001b[39m //\u001b[39m\u001b[39m{}\u001b[39;00m\u001b[39m,//\u001b[39m\u001b[39m{}\u001b[39;00m\u001b[39m,//\u001b[39m\u001b[39m{}\u001b[39;00m\u001b[39m,//\u001b[39m\u001b[39m{}\u001b[39;00m\u001b[39m'\u001b[39m\u001b[39m.\u001b[39mformat(\u001b[39m5\u001b[39m, learning_rate, ACC, RECALL, PREC, F1))\n\u001b[0;32m     <a href='vscode-notebook-cell:/f%3A/1GIT/flight-delay-predict/train/lab.ipynb#ch0000002?line=10'>11</a>\u001b[0m     \u001b[39mwith\u001b[39;00m \u001b[39mopen\u001b[39m(\u001b[39m'\u001b[39m\u001b[39mresult.csv\u001b[39m\u001b[39m'\u001b[39m, \u001b[39m'\u001b[39m\u001b[39ma\u001b[39m\u001b[39m'\u001b[39m, newline\u001b[39m=\u001b[39m\u001b[39m'\u001b[39m\u001b[39m'\u001b[39m) \u001b[39mas\u001b[39;00m csvfile:\n",
      "File \u001b[1;32mf:\\1GIT\\flight-delay-predict\\train\\train.py:19\u001b[0m, in \u001b[0;36mtrain_test\u001b[1;34m(max_depth, learning_rate, objective, booster, n_jobs, min_child_weight, gamma, subsample, colsample_bytree, scale_pos_weight, data_train)\u001b[0m\n\u001b[0;32m     14\u001b[0m \u001b[39mdef\u001b[39;00m \u001b[39mtrain_test\u001b[39m(max_depth, learning_rate, objective, booster, n_jobs, min_child_weight, gamma, subsample, colsample_bytree, scale_pos_weight,data_train):\n\u001b[0;32m     15\u001b[0m     \u001b[39m# 导入训练集\u001b[39;00m\n\u001b[0;32m     16\u001b[0m \n\u001b[0;32m     17\u001b[0m \n\u001b[0;32m     18\u001b[0m     \u001b[39m# 删除缺失值NaN\u001b[39;00m\n\u001b[1;32m---> 19\u001b[0m     data_train\u001b[39m.\u001b[39;49mdropna(inplace\u001b[39m=\u001b[39m\u001b[39mTrue\u001b[39;00m)\n\u001b[0;32m     20\u001b[0m     \u001b[39m# 为出发机场,到达机场,航班编号,年,月,日,时间 字符串转化为可训练的变量\u001b[39;00m\n\u001b[0;32m     21\u001b[0m     data_train[\u001b[39m'\u001b[39m\u001b[39m出发机场\u001b[39m\u001b[39m'\u001b[39m] \u001b[39m=\u001b[39m data_train[\u001b[39m'\u001b[39m\u001b[39m出发机场\u001b[39m\u001b[39m'\u001b[39m]\u001b[39m.\u001b[39mastype(\u001b[39m'\u001b[39m\u001b[39mcategory\u001b[39m\u001b[39m'\u001b[39m)\n",
      "\u001b[1;31mAttributeError\u001b[0m: 'function' object has no attribute 'dropna'"
     ]
    }
   ],
   "source": [
    "# 创建csv文件 # 'max_depth', 'learning_rate', 'exp', 'mae', 'mse', 'r2'\n",
    "with open('result.csv', 'a', newline='') as csvfile:\n",
    "    writer = csv.writer(csvfile)\n",
    "    writer.writerow(['max_depth', 'learning_rate', 'ACC', 'RECALL', 'PREC', 'F1'])\n",
    "\n",
    "# for max_depth in range(1, 8):\n",
    "for learning_rate in (0.1,0.15,0.2,0.25,0.3):\n",
    "    ACC, RECALL, PREC, F1 = train_test(max_depth=5, learning_rate=learning_rate, objective='multi:softprob', booster='gbtree', n_jobs=4, min_child_weight=6, gamma=0.1, subsample=0.8, colsample_bytree=0.8, scale_pos_weight=1)\n",
    "    print('max_depth:{} min_child_weight:{} //{},//{},//{},//{}'.format(5, learning_rate, ACC, RECALL, PREC, F1))\n",
    "    with open('result.csv', 'a', newline='') as csvfile:\n",
    "        writer = csv.writer(csvfile)\n",
    "        writer.writerow([5, learning_rate, ACC, RECALL, PREC, F1])"
   ]
  },
  {
   "cell_type": "code",
   "execution_count": null,
   "metadata": {},
   "outputs": [],
   "source": []
  }
 ],
 "metadata": {
  "kernelspec": {
   "display_name": "Python 3.9.13 64-bit",
   "language": "python",
   "name": "python3"
  },
  "language_info": {
   "codemirror_mode": {
    "name": "ipython",
    "version": 3
   },
   "file_extension": ".py",
   "mimetype": "text/x-python",
   "name": "python",
   "nbconvert_exporter": "python",
   "pygments_lexer": "ipython3",
   "version": "3.9.13"
  },
  "orig_nbformat": 4,
  "vscode": {
   "interpreter": {
    "hash": "6efa788cb94cb17b6d18a0713a162526dde847b9fce190a5e1ec27ce6e1c4702"
   }
  }
 },
 "nbformat": 4,
 "nbformat_minor": 2
}
