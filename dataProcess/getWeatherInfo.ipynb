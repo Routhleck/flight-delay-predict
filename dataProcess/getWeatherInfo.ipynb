{
 "cells": [
  {
   "cell_type": "markdown",
   "metadata": {},
   "source": [
    "# 加入出发地当天天气信息"
   ]
  },
  {
   "cell_type": "code",
   "execution_count": null,
   "metadata": {},
   "outputs": [],
   "source": [
    "import pandas as pd"
   ]
  },
  {
   "cell_type": "code",
   "execution_count": null,
   "metadata": {},
   "outputs": [],
   "source": [
    "# 创建出发地天气id字典\n",
    "airport = pd.read_csv('./dataset/temp_airport.csv', encoding= 'gbk')\n",
    "# 读取airport.csv文件为字典\n",
    "weather_dict = {}\n",
    "for i in range(len(airport)):\n",
    "    weather_dict[airport['机场编码'][i]] = airport['网站ID'][i]\n",
    "print(weather_dict)"
   ]
  },
  {
   "cell_type": "markdown",
   "metadata": {},
   "source": [
    "# 进入网站爬取数据\n"
   ]
  },
  {
   "cell_type": "code",
   "execution_count": null,
   "metadata": {},
   "outputs": [],
   "source": [
    "#将id变为str\n",
    "from Write import write\n",
    "for city in weather_dict:\n",
    "    id = str(weather_dict[city])\n",
    "    write(city, id)\n",
    "    print(city, '(', id, ')已写入csv文件')"
   ]
  },
  {
   "cell_type": "markdown",
   "metadata": {},
   "source": [
    "# 将气象数据合并至flight_reduced_calculated.csv中并作为数据集"
   ]
  },
  {
   "cell_type": "code",
   "execution_count": null,
   "metadata": {},
   "outputs": [],
   "source": [
    "# 读取flight_reduced_unique_calculated.csv文件\n",
    "dataSet = pd.read_csv('./dataset/flight_reduced_calculated.csv', encoding='utf-8')\n",
    "\n",
    "# 创建出发地天气id字典\n",
    "airport = pd.read_csv('./dataset/airport.csv', encoding= 'gbk')\n",
    "# 读取airport.csv文件为列表\n",
    "airport_list = []\n",
    "for i in range(len(airport)):\n",
    "    airport_list.append(airport['机场编码'][i])\n",
    "\n",
    "# 删除无气象数据的行\n",
    "dataSet = dataSet[dataSet['出发机场'].isin(airport_list)]\n",
    "dataSet = dataSet[dataSet['到达机场'].isin(airport_list)]\n",
    "\n",
    "# 读取各机场的天气csv文件\n",
    "airport_weather = {}\n",
    "for i in range(len(airport_list)):\n",
    "    airport_weather[airport_list[i]] = pd.read_csv('./dataset/weather/' + airport_list[i] + '.csv', encoding='utf-8')\n",
    "\n",
    "drop_list = []\n",
    "\n",
    "# 添加天气数据到原始数据集\n",
    "dataSet['平均温度'] = float(0)\n",
    "dataSet['最高温度'] = float(0)\n",
    "dataSet['最低温度'] = float(0)\n",
    "dataSet['降水量'] = float(0)\n",
    "dataSet['气压'] = float(0)\n",
    "dataSet['风向'] = float(0)\n",
    "dataSet['风速'] = float(0)\n",
    "for i in range(len(dataSet)):\n",
    "    # 通过机场编码和日期找到对应的天气数据\n",
    "    airport_code = dataSet['出发机场'].values[i]\n",
    "    date = dataSet['计划出发日期'].values[i]\n",
    "    # 将日期变为字符串\n",
    "    date = str(date).split(' ')[0].split('-')[2] + '/' + str(date).split(' ')[0].split('-')[1] + '/' + str(date).split(' ')[0].split('-')[0]\n",
    "    # 找到对应日期的天气数据\n",
    "    for j in range(len(airport_weather[airport_code])):\n",
    "        if airport_weather[airport_code]['Time'][j] == date:\n",
    "            dataSet['平均温度'].values[i] = airport_weather[airport_code]['Ave_t'].values[j]\n",
    "            dataSet['最高温度'].values[i] = airport_weather[airport_code]['Max_t'].values[j]\n",
    "            dataSet['最低温度'].values[i] = airport_weather[airport_code]['Min_t'].values[j]\n",
    "            dataSet['降水量'].values[i] = airport_weather[airport_code]['Prec'].values[j]\n",
    "            dataSet['气压'].values[i] = airport_weather[airport_code]['SLpress'].values[j]\n",
    "            dataSet['风向'].values[i] = airport_weather[airport_code]['Winddir'].values[j]\n",
    "            dataSet['风速'].values[i] = airport_weather[airport_code]['Windsp'].values[j]\n",
    "            # print(airport_weather[airport_code]['Ave_t'].values[j])\n",
    "            # print(dataSet['平均温度'].values[i])\n",
    "            break\n",
    "    if i%1000 == 0:\n",
    "        print(i/len(dataSet)*100, '%')\n",
    "\n",
    "# 保存数据集\n",
    "dataSet.to_csv('./dataset/flight_final.csv', encoding='utf-8',index = False)\n"
   ]
  },
  {
   "cell_type": "markdown",
   "metadata": {},
   "source": [
    "# 删除没有气象数据的行"
   ]
  },
  {
   "cell_type": "code",
   "execution_count": null,
   "metadata": {},
   "outputs": [],
   "source": [
    "# 读取flight_final.csv文件\n",
    "dataSet = pd.read_csv('./dataset/flight_final.csv', encoding='utf-8')\n",
    "\n",
    "# 删除平均温度，最高温度，最低温度，降水量，气压，风向，风速为0的行\n",
    "dataSet = dataSet[dataSet['平均温度'] != 0]\n",
    "\n",
    "# 保存数据集\n",
    "dataSet.to_csv('./dataset/flight_final_no_zero.csv', encoding='utf-8',index = False)"
   ]
  }
 ],
 "metadata": {
  "kernelspec": {
   "display_name": "Python 3.9.13 64-bit (windows store)",
   "language": "python",
   "name": "python3"
  },
  "language_info": {
   "codemirror_mode": {
    "name": "ipython",
    "version": 3
   },
   "file_extension": ".py",
   "mimetype": "text/x-python",
   "name": "python",
   "nbconvert_exporter": "python",
   "pygments_lexer": "ipython3",
   "version": "3.9.13"
  },
  "orig_nbformat": 4,
  "vscode": {
   "interpreter": {
    "hash": "3fe23f6978864f161a5b8526414bef80d2b47e3d9bd555d95af5cac3090ee367"
   }
  }
 },
 "nbformat": 4,
 "nbformat_minor": 2
}
