{
 "cells": [
  {
   "cell_type": "markdown",
   "metadata": {},
   "source": [
    "# 缩减单元格"
   ]
  },
  {
   "cell_type": "code",
   "execution_count": null,
   "metadata": {},
   "outputs": [],
   "source": [
    "import pandas as pd\n",
    "from math import radians, cos, sin, asin, sqrt\n",
    "import numpy as np"
   ]
  },
  {
   "cell_type": "code",
   "execution_count": null,
   "metadata": {},
   "outputs": [],
   "source": [
    "# 经纬度计算距离\n",
    "def geoDistance(lat1, lon1, lat2, lon2):\n",
    "    # 将十进制度数转化为弧度\n",
    "    lat1, lon1, lat2, lon2 = map(radians, [lat1, lon1, lat2, lon2])\n",
    "    # haversine公式\n",
    "    dlon = lon2 - lon1\n",
    "    dlat = lat2 - lat1\n",
    "    a = sin(dlat / 2) ** 2 + cos(lat1) * cos(lat2) * sin(dlon / 2) ** 2\n",
    "    c = 2 * asin(sqrt(a))\n",
    "    r = 6371  # 地球平均半径，单位为公里\n",
    "    return c * r\n"
   ]
  },
  {
   "cell_type": "code",
   "execution_count": null,
   "metadata": {},
   "outputs": [],
   "source": [
    "# 时间戳测试\n",
    "t = 1452760800\n",
    "print(t)\n",
    "print(str(pd.to_datetime(t, unit='s')).split(' ')[0])"
   ]
  },
  {
   "cell_type": "code",
   "execution_count": null,
   "metadata": {},
   "outputs": [],
   "source": [
    "# 字典测试\n",
    "airport = pd.read_csv('./dataset/airport.csv', encoding= 'gbk')\n",
    "# 读取airport.csv文件为字典\n",
    "airport_dict = {}\n",
    "for i in range(len(airport)):\n",
    "    airport_dict[airport['机场编码'][i]] = (airport['经度'][i], airport['纬度'][i])\n",
    "print(airport_dict)"
   ]
  },
  {
   "cell_type": "code",
   "execution_count": null,
   "metadata": {},
   "outputs": [],
   "source": [
    "# 改为utf-8编码 读取dataset/flight.csv文件\n",
    "origin_dataset = pd.read_csv('./dataset/flights.csv', encoding='gbk')\n",
    "print('成功读取flights.csv文件')\n",
    "# 删除ORIGIN_AIRPORT行中没有dataset/airports.csv中的IATA_CODE的行\n",
    "airport = pd.read_csv('./dataset/airport.csv', encoding= 'gbk')\n",
    "print('成功读取airport.csv文件')\n",
    "select_airport = airport['机场编码'].values\n",
    "\n",
    "# 将origin_dataset中的ORIGIN_AIRPORT列中的值与select_airport中的值进行比较，如果不在select_airport中，则删除该行\n",
    "origin_dataset = origin_dataset[origin_dataset['出发机场'].isin(select_airport)]\n",
    "print('成功删除ORIGIN_AIRPORT不在airports.csv中的行')\n",
    "# 保存缩减后的数据集\n",
    "origin_dataset = origin_dataset[origin_dataset['到达机场'].isin(select_airport)]\n",
    "\n",
    "# 删除取消的航班\n",
    "origin_dataset = origin_dataset[origin_dataset['航班是否取消'] != '取消']\n",
    "\n",
    "\n",
    "origin_dataset['计划出发日期'] = str(0)\n",
    "origin_dataset['计划到达日期'] = str(0)\n",
    "origin_dataset['实际出发日期'] = str(0)\n",
    "origin_dataset['实际到达日期'] = str(0)\n",
    "origin_dataset['出发延迟'] = 0\n",
    "origin_dataset['到达延迟'] = 0\n",
    "origin_dataset['出发经度'] = 0\n",
    "origin_dataset['出发纬度'] = 0\n",
    "origin_dataset['到达经度'] = 0\n",
    "origin_dataset['到达纬度'] = 0\n",
    "origin_dataset['距离'] = 0\n",
    "# 时间码转换为时间格式\n",
    "for i in range(len(origin_dataset)):\n",
    "    origin_dataset['计划出发日期'].values[i] = str(pd.to_datetime(origin_dataset['计划起飞时间'].values[i],unit='s'))\n",
    "    # print(origin_dataset['计划出发日期'].values[i])\n",
    "    origin_dataset['计划到达日期'].values[i] = str(pd.to_datetime(origin_dataset['计划到达时间'].values[i],unit='s'))\n",
    "    # print(origin_dataset['计划到达日期'].values[i])\n",
    "    origin_dataset['实际出发日期'].values[i] = str(pd.to_datetime(origin_dataset['实际起飞时间'].values[i],unit='s'))\n",
    "    # print(origin_dataset['实际出发日期'].values[i])\n",
    "    origin_dataset['实际到达日期'].values[i] = str(pd.to_datetime(origin_dataset['实际到达时间'].values[i],unit='s'))\n",
    "    # print(origin_dataset['实际到达日期'].values[i])\n",
    "    if (i%100000 == 1):\n",
    "        print(i/len(origin_dataset)*100,'%')\n",
    "\n",
    "origin_dataset.to_csv('./dataset/flight_reduced.csv', index=False)\n",
    "\n",
    "'''\n",
    "# 创建新的列\n",
    "# 起飞延误时间和到达延误时间\n",
    "\n",
    "    origin_dataset['出发延迟'] = (pd.to_datetime(origin_dataset['实际出发']) -  pd.to_datetime(origin_dataset['计划出发'])) / np.timedelta64(1, 'm')\n",
    "    origin_dataset['到达延迟'] = (pd.to_datetime(origin_dataset['实际到达']) -  pd.to_datetime(origin_dataset['计划到达'])) / np.timedelta64(1, 'm')\n",
    "    \n",
    "\n",
    "# 通过airport_dict创建出发经纬度与到达经纬度\n",
    "# 创建新的列\n",
    "\n",
    "    origin_dataset['出发经度'].values[i] = airport_dict[origin_dataset['出发机场'].values[i]][0]\n",
    "    origin_dataset['出发纬度'].values[i] = airport_dict[origin_dataset['出发机场'].values[i]][1]\n",
    "    origin_dataset['到达经度'].values[i] = airport_dict[origin_dataset['到达机场'].values[i]][0]\n",
    "    origin_dataset['到达纬度'].values[i] = airport_dict[origin_dataset['到达机场'].values[i]][1]\n",
    "\n",
    "# 通过经纬度计算距离\n",
    "\n",
    "    origin_dataset['距离'].values[i] = geoDistance(origin_dataset['出发经度'].values[i], origin_dataset['出发纬度'].values[i], origin_dataset['到达经度'].values[i], origin_dataset['到达纬度'].values[i])\n",
    "    \n",
    "# origin_dataset['距离'] = geoDistance(airport[airport['机场编码'].values == origin_dataset['出发机场'].values]['经度'], airport[airport['机场编码'].values == origin_dataset['出发机场'].values]['纬度'], airport[airport['机场编码'].values == origin_dataset['到达机场'].values]['经度'], airport[airport['机场编码'].values == origin_dataset['到达机场'].values]['纬度'])\n",
    "'''\n",
    "\n"
   ]
  },
  {
   "cell_type": "code",
   "execution_count": null,
   "metadata": {},
   "outputs": [],
   "source": [
    "# 读取./dataset/flight_reduced.csv\n",
    "reduced_dataset = pd.read_csv('./dataset/flight_reduced.csv')\n",
    "# 删除同一出发机场重复的计划出发的列\n",
    "reduced_dataset = reduced_dataset.drop_duplicates(subset=['出发机场', '计划出发日期'], keep='first')\n",
    "# 保存去重后的数据集\n",
    "reduced_dataset.to_csv('./dataset/flight_reduced_unique.csv', index=False)"
   ]
  },
  {
   "cell_type": "code",
   "execution_count": null,
   "metadata": {},
   "outputs": [],
   "source": [
    "# 读取./dataset/flight_reduced_unique.csv\n",
    "reduced_unique_dataset = pd.read_csv('./dataset/flight_reduced_unique.csv')\n",
    "# 删除取消的航班\n",
    "reduced_unique_dataset = reduced_unique_dataset[reduced_unique_dataset['是否取消'] != '取消']\n",
    "# 保存去重后的数据集\n",
    "reduced_unique_dataset.to_csv('./dataset/flight_reduced_unique.csv', index=False)"
   ]
  },
  {
   "cell_type": "code",
   "execution_count": null,
   "metadata": {},
   "outputs": [],
   "source": [
    "# 读取./dataset/flight_reduced.csv\n",
    "reduced_unique_dataset = pd.read_csv('./dataset/flight_reduced.csv')\n",
    "# 计算延迟时间\n",
    "reduced_unique_dataset['出发延迟'] = (pd.to_datetime(reduced_unique_dataset['实际起飞时间'], unit='s') -  pd.to_datetime(reduced_unique_dataset['计划起飞时间'], unit='s')) / np.timedelta64(1, 'm')\n",
    "reduced_unique_dataset['到达延迟'] = (pd.to_datetime(reduced_unique_dataset['实际到达时间'], unit='s') -  pd.to_datetime(reduced_unique_dataset['计划到达时间'], unit='s')) / np.timedelta64(1, 'm')\n",
    "print('延迟时间计算')\n",
    "# 计算出发经纬度与到达经纬度\n",
    "for i in range(len(reduced_unique_dataset)):\n",
    "    # 通过airport_dict创建出发经纬度与到达经纬度\n",
    "    \n",
    "    reduced_unique_dataset['出发经度'].values[i] = airport_dict[reduced_unique_dataset['出发机场'].values[i]][0]\n",
    "    reduced_unique_dataset['出发纬度'].values[i] = airport_dict[reduced_unique_dataset['出发机场'].values[i]][1]\n",
    "    reduced_unique_dataset['到达经度'].values[i] = airport_dict[reduced_unique_dataset['到达机场'].values[i]][0]\n",
    "    reduced_unique_dataset['到达纬度'].values[i] = airport_dict[reduced_unique_dataset['到达机场'].values[i]][1]\n",
    "    # 通过经纬度计算距离\n",
    "    \n",
    "    reduced_unique_dataset['距离'].values[i] = geoDistance(reduced_unique_dataset['出发经度'].values[i], reduced_unique_dataset['出发纬度'].values[i], reduced_unique_dataset['到达经度'].values[i], reduced_unique_dataset['到达纬度'].values[i])\n",
    "    if(i % 100000) == 0:\n",
    "        print(i/len(reduced_unique_dataset)*100, '%')\n",
    "# 保存计算后的数据集\n",
    "reduced_unique_dataset.to_csv('./dataset/flight_reduced_calculated.csv', index=False)"
   ]
  },
  {
   "cell_type": "markdown",
   "metadata": {},
   "source": [
    "# 删除多余的列"
   ]
  },
  {
   "cell_type": "code",
   "execution_count": null,
   "metadata": {},
   "outputs": [],
   "source": [
    "# 读取./dataset/flight_reduced_calculated.csv\n",
    "reduced_calculated_dataset = pd.read_csv('./dataset/flight_reduced_calculated.csv')\n",
    "# 删除多余的列\n",
    "reduced_calculated_dataset = reduced_calculated_dataset.drop(['计划起飞时间', '计划到达时间', '实际起飞时间', '实际到达时间', '航班是否取消', '实际到达时间', '出发经度', '出发纬度', '到达经度', '到达纬度'], axis=1)\n",
    "\n",
    "# 保存计算后的数据集\n",
    "reduced_calculated_dataset.to_csv('./dataset/flight_reduced_calculated.csv', index=False)"
   ]
  },
  {
   "cell_type": "code",
   "execution_count": null,
   "metadata": {},
   "outputs": [],
   "source": [
    "# 读取./dataset/flight_reduced_calculated.csv\n",
    "reduced_calculated_dataset = pd.read_csv('./dataset/flight_final.csv')\n",
    "# 删除多余的列\n",
    "reduced_calculated_dataset = reduced_calculated_dataset.drop(['飞机编号'], axis=1)\n",
    "\n",
    "# 保存计算后的数据集\n",
    "reduced_calculated_dataset.to_csv('./dataset/flight_final.csv', index=False)"
   ]
  },
  {
   "cell_type": "code",
   "execution_count": null,
   "metadata": {},
   "outputs": [],
   "source": [
    "# 读取./dataset/flight_final.csv\n",
    "dataset = pd.read_csv('./dataset/flight_final.csv')\n",
    "\n",
    "# 删除多余的列\n",
    "dataset = dataset.drop(['计划到达日期','实际出发日期','实际到达日期','到达延迟'], axis=1)\n",
    "\n",
    "# 保存\n",
    "dataset.to_csv('./dataset/flight_final.csv', index=False)"
   ]
  },
  {
   "cell_type": "code",
   "execution_count": null,
   "metadata": {},
   "outputs": [],
   "source": [
    "# 读取./dataset/flight_final.csv\n",
    "dataset = pd.read_csv('./dataset/flight_final.csv')\n",
    "\n",
    "dataset['年'] = str(0)\n",
    "dataset['月'] = str(0)\n",
    "dataset['日'] = str(0)\n",
    "dataset['时间'] = str(0)\n",
    "\n",
    "# 将计划出发日期转换为年,月,日,起飞时间的列\n",
    "for i in range(len(dataset)):\n",
    "    dataset['年'].values[i] = dataset['计划出发日期'].values[i][0:4]\n",
    "    dataset['月'].values[i] = dataset['计划出发日期'].values[i][5:7]\n",
    "    dataset['日'].values[i] = dataset['计划出发日期'].values[i][8:10]\n",
    "    dataset['时间'].values[i] = dataset['计划出发日期'].values[i][11:19]\n",
    "    # print(dataset['年'].values[i], dataset['月'].values[i], dataset['日'].values[i], dataset['时间'].values[i])\n",
    "    if(i % 100000) == 0:\n",
    "        print(i/len(dataset)*100, '%')\n",
    "# 删除计划出发日期行\n",
    "dataset = dataset.drop(['计划出发日期'], axis=1)\n",
    "# 保存\n",
    "dataset.to_csv('./dataset/flight_final.csv', index=False)"
   ]
  },
  {
   "cell_type": "markdown",
   "metadata": {},
   "source": [
    "# 出发延迟转化为分类预测对象"
   ]
  },
  {
   "cell_type": "code",
   "execution_count": null,
   "metadata": {},
   "outputs": [],
   "source": [
    "# 读取./dataset/flight_final.csv\n",
    "dataset = pd.read_csv('./dataset/flight_final.csv')\n",
    "\n",
    "# 根据出发延迟的大小,写入新的'延迟程度'列\n",
    "for i in range(len(dataset)):\n",
    "    if dataset['延迟程度'].values[i] == '正常':\n",
    "        dataset['延迟程度'].values[i] = 0\n",
    "    elif dataset['延迟程度'].values[i] == '轻度':\n",
    "        dataset['延迟程度'].values[i] = 1\n",
    "    elif dataset['延迟程度'].values[i] == '中度':\n",
    "        dataset['延迟程度'].values[i] = 2\n",
    "    elif dataset['延迟程度'].values[i] == '严重':\n",
    "        dataset['延迟程度'].values[i] = 3\n",
    "\n",
    "    if(i % 100000) == 0:\n",
    "        print(i/len(dataset)*100, '%')\n",
    "# 删除出发延迟行\n",
    "# dataset = dataset.drop(['出发延迟'], axis=1)\n",
    "# 保存\n",
    "dataset.to_csv('./dataset/flight_final.csv', index=False)\n"
   ]
  },
  {
   "cell_type": "code",
   "execution_count": null,
   "metadata": {},
   "outputs": [],
   "source": [
    "# 读取./dataset/flight_final.csv\n",
    "dataset = pd.read_csv('./dataset/flight_final.csv')\n",
    "\n",
    "# 去除延迟程度中的0\n",
    "dataset = dataset[dataset['延迟程度'] != '0']\n",
    "# 保存\n",
    "dataset.to_csv('./dataset/flight_final.csv', index=False)"
   ]
  },
  {
   "cell_type": "code",
   "execution_count": null,
   "metadata": {},
   "outputs": [],
   "source": [
    "# 读取./dataset/flight_final.csv\n",
    "dataset = pd.read_csv('./dataset/flight_final.csv')\n",
    "\n",
    "# 将时间列只取前两个字符并转化为int\n",
    "for i in range(len(dataset)):\n",
    "    dataset['时间'].values[i] = int(dataset['时间'].values[i][0:2])\n",
    "    if(i % 100000) == 0:\n",
    "        print(i/len(dataset)*100, '%')\n",
    "# 保存\n",
    "dataset.to_csv('./dataset/flight_final.csv', index=False)"
   ]
  }
 ],
 "metadata": {
  "kernelspec": {
   "display_name": "Python 3.9.13 64-bit (windows store)",
   "language": "python",
   "name": "python3"
  },
  "language_info": {
   "codemirror_mode": {
    "name": "ipython",
    "version": 3
   },
   "file_extension": ".py",
   "mimetype": "text/x-python",
   "name": "python",
   "nbconvert_exporter": "python",
   "pygments_lexer": "ipython3",
   "version": "3.9.13"
  },
  "orig_nbformat": 4,
  "vscode": {
   "interpreter": {
    "hash": "3fe23f6978864f161a5b8526414bef80d2b47e3d9bd555d95af5cac3090ee367"
   }
  }
 },
 "nbformat": 4,
 "nbformat_minor": 2
}
