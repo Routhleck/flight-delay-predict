{
 "cells": [
  {
   "cell_type": "markdown",
   "metadata": {},
   "source": [
    "# 缩减单元格"
   ]
  },
  {
   "cell_type": "code",
   "execution_count": 1,
   "metadata": {},
   "outputs": [],
   "source": [
    "import pandas as pd\n",
    "from math import radians, cos, sin, asin, sqrt\n",
    "import numpy as np"
   ]
  },
  {
   "cell_type": "code",
   "execution_count": 2,
   "metadata": {},
   "outputs": [],
   "source": [
    "# 经纬度计算距离\n",
    "def geoDistance(lat1, lon1, lat2, lon2):\n",
    "    # 将十进制度数转化为弧度\n",
    "    lat1, lon1, lat2, lon2 = map(radians, [lat1, lon1, lat2, lon2])\n",
    "    # haversine公式\n",
    "    dlon = lon2 - lon1\n",
    "    dlat = lat2 - lat1\n",
    "    a = sin(dlat / 2) ** 2 + cos(lat1) * cos(lat2) * sin(dlon / 2) ** 2\n",
    "    c = 2 * asin(sqrt(a))\n",
    "    r = 6371  # 地球平均半径，单位为公里\n",
    "    return c * r\n"
   ]
  },
  {
   "cell_type": "code",
   "execution_count": 12,
   "metadata": {},
   "outputs": [
    {
     "name": "stdout",
     "output_type": "stream",
     "text": [
      "1452760800\n",
      "2016-01-14\n"
     ]
    }
   ],
   "source": [
    "# 时间戳测试\n",
    "t = 1452760800\n",
    "print(t)\n",
    "print(str(pd.to_datetime(t, unit='s')).split(' ')[0])"
   ]
  },
  {
   "cell_type": "code",
   "execution_count": 3,
   "metadata": {},
   "outputs": [
    {
     "name": "stdout",
     "output_type": "stream",
     "text": [
      "{'JDZ': (117.18366, 29.27324), 'PVG': (121.48941, 31.40527), 'TGO': (122.25615, 43.62244), 'XMN': (118.03394, 24.48405), 'URC': (88.31104, 43.36378), 'TYN': (112.48699, 37.94036), 'SZX': (113.88308, 22.55329), 'SYX': (109.7525, 18.40005), 'TAO': (120.39629, 36.30744), 'TNA': (116.75199, 36.55358), 'SJW': (114.53952, 38.03647), 'SHE': (123.46987, 41.80515), 'SHA': (121.48941, 31.40527), 'PEK': (116.23128, 40.22077), 'NKG': (118.8921, 31.32751), 'KWL': (110.30188, 25.31402), 'KMG': (102.82147, 24.88554), 'HRB': (126.95717, 45.54774), 'HET': (111.62299, 40.80772), 'HGH': (120.21201, 30.2084), 'FOC': (119.27345, 26.04769), 'CTU': (104.10194, 30.65984), 'CKG': (106.54041, 29.40268), 'HFE': (117.30794, 31.79322), 'CGO': (113.6401, 34.72468), 'TLQ': (89.18596, 42.94244), 'WUH': (114.02919, 30.58203)}\n"
     ]
    }
   ],
   "source": [
    "# 字典测试\n",
    "airport = pd.read_csv('./dataset/airport.csv', encoding= 'gbk')\n",
    "# 读取airport.csv文件为字典\n",
    "airport_dict = {}\n",
    "for i in range(len(airport)):\n",
    "    airport_dict[airport['机场编码'][i]] = (airport['经度'][i], airport['纬度'][i])\n",
    "print(airport_dict)"
   ]
  },
  {
   "cell_type": "code",
   "execution_count": 15,
   "metadata": {},
   "outputs": [
    {
     "name": "stdout",
     "output_type": "stream",
     "text": [
      "成功读取flights.csv文件\n",
      "成功读取airport.csv文件\n",
      "成功删除ORIGIN_AIRPORT不在airports.csv中的行\n",
      "4.295495743163719e-05 %\n",
      "4.29553869812115 %\n",
      "8.591034441284869 %\n",
      "12.886530184448588 %\n",
      "17.182025927612305 %\n",
      "21.477521670776024 %\n",
      "25.77301741393974 %\n",
      "30.06851315710346 %\n",
      "34.36400890026718 %\n",
      "38.6595046434309 %\n",
      "42.95500038659462 %\n",
      "47.25049612975833 %\n",
      "51.54599187292206 %\n",
      "55.84148761608577 %\n",
      "60.1369833592495 %\n",
      "64.43247910241321 %\n",
      "68.72797484557694 %\n",
      "73.02347058874065 %\n",
      "77.31896633190436 %\n",
      "81.61446207506809 %\n",
      "85.9099578182318 %\n",
      "90.20545356139552 %\n",
      "94.50094930455923 %\n",
      "98.79644504772295 %\n"
     ]
    },
    {
     "data": {
      "text/plain": [
       "\"\\n# 创建新的列\\n# 起飞延误时间和到达延误时间\\n\\n    origin_dataset['出发延迟'] = (pd.to_datetime(origin_dataset['实际出发']) -  pd.to_datetime(origin_dataset['计划出发'])) / np.timedelta64(1, 'm')\\n    origin_dataset['到达延迟'] = (pd.to_datetime(origin_dataset['实际到达']) -  pd.to_datetime(origin_dataset['计划到达'])) / np.timedelta64(1, 'm')\\n    \\n\\n# 通过airport_dict创建出发经纬度与到达经纬度\\n# 创建新的列\\n\\n    origin_dataset['出发经度'].values[i] = airport_dict[origin_dataset['出发机场'].values[i]][0]\\n    origin_dataset['出发纬度'].values[i] = airport_dict[origin_dataset['出发机场'].values[i]][1]\\n    origin_dataset['到达经度'].values[i] = airport_dict[origin_dataset['到达机场'].values[i]][0]\\n    origin_dataset['到达纬度'].values[i] = airport_dict[origin_dataset['到达机场'].values[i]][1]\\n\\n# 通过经纬度计算距离\\n\\n    origin_dataset['距离'].values[i] = geoDistance(origin_dataset['出发经度'].values[i], origin_dataset['出发纬度'].values[i], origin_dataset['到达经度'].values[i], origin_dataset['到达纬度'].values[i])\\n    \\n# origin_dataset['距离'] = geoDistance(airport[airport['机场编码'].values == origin_dataset['出发机场'].values]['经度'], airport[airport['机场编码'].values == origin_dataset['出发机场'].values]['纬度'], airport[airport['机场编码'].values == origin_dataset['到达机场'].values]['经度'], airport[airport['机场编码'].values == origin_dataset['到达机场'].values]['纬度'])\\n\""
      ]
     },
     "execution_count": 15,
     "metadata": {},
     "output_type": "execute_result"
    }
   ],
   "source": [
    "# 改为utf-8编码 读取dataset/flight.csv文件\n",
    "origin_dataset = pd.read_csv('./dataset/flights.csv', encoding='gbk')\n",
    "print('成功读取flights.csv文件')\n",
    "# 删除ORIGIN_AIRPORT行中没有dataset/airports.csv中的IATA_CODE的行\n",
    "airport = pd.read_csv('./dataset/airport.csv', encoding= 'gbk')\n",
    "print('成功读取airport.csv文件')\n",
    "select_airport = airport['机场编码'].values\n",
    "\n",
    "# 将origin_dataset中的ORIGIN_AIRPORT列中的值与select_airport中的值进行比较，如果不在select_airport中，则删除该行\n",
    "origin_dataset = origin_dataset[origin_dataset['出发机场'].isin(select_airport)]\n",
    "print('成功删除ORIGIN_AIRPORT不在airports.csv中的行')\n",
    "# 保存缩减后的数据集\n",
    "origin_dataset = origin_dataset[origin_dataset['到达机场'].isin(select_airport)]\n",
    "\n",
    "# 删除取消的航班\n",
    "origin_dataset = origin_dataset[origin_dataset['航班是否取消'] != '取消']\n",
    "\n",
    "\n",
    "origin_dataset['计划出发日期'] = str(0)\n",
    "origin_dataset['计划到达日期'] = str(0)\n",
    "origin_dataset['实际出发日期'] = str(0)\n",
    "origin_dataset['实际到达日期'] = str(0)\n",
    "origin_dataset['出发延迟'] = 0\n",
    "origin_dataset['到达延迟'] = 0\n",
    "origin_dataset['出发经度'] = 0\n",
    "origin_dataset['出发纬度'] = 0\n",
    "origin_dataset['到达经度'] = 0\n",
    "origin_dataset['到达纬度'] = 0\n",
    "origin_dataset['距离'] = 0\n",
    "# 时间码转换为时间格式\n",
    "for i in range(len(origin_dataset)):\n",
    "    origin_dataset['计划出发日期'].values[i] = str(pd.to_datetime(origin_dataset['计划起飞时间'].values[i],unit='s'))\n",
    "    # print(origin_dataset['计划出发日期'].values[i])\n",
    "    origin_dataset['计划到达日期'].values[i] = str(pd.to_datetime(origin_dataset['计划到达时间'].values[i],unit='s'))\n",
    "    # print(origin_dataset['计划到达日期'].values[i])\n",
    "    origin_dataset['实际出发日期'].values[i] = str(pd.to_datetime(origin_dataset['实际起飞时间'].values[i],unit='s'))\n",
    "    # print(origin_dataset['实际出发日期'].values[i])\n",
    "    origin_dataset['实际到达日期'].values[i] = str(pd.to_datetime(origin_dataset['实际到达时间'].values[i],unit='s'))\n",
    "    # print(origin_dataset['实际到达日期'].values[i])\n",
    "    if (i%100000 == 1):\n",
    "        print(i/len(origin_dataset)*100,'%')\n",
    "\n",
    "origin_dataset.to_csv('./dataset/flight_reduced.csv', index=False)\n",
    "\n",
    "'''\n",
    "# 创建新的列\n",
    "# 起飞延误时间和到达延误时间\n",
    "\n",
    "    origin_dataset['出发延迟'] = (pd.to_datetime(origin_dataset['实际出发']) -  pd.to_datetime(origin_dataset['计划出发'])) / np.timedelta64(1, 'm')\n",
    "    origin_dataset['到达延迟'] = (pd.to_datetime(origin_dataset['实际到达']) -  pd.to_datetime(origin_dataset['计划到达'])) / np.timedelta64(1, 'm')\n",
    "    \n",
    "\n",
    "# 通过airport_dict创建出发经纬度与到达经纬度\n",
    "# 创建新的列\n",
    "\n",
    "    origin_dataset['出发经度'].values[i] = airport_dict[origin_dataset['出发机场'].values[i]][0]\n",
    "    origin_dataset['出发纬度'].values[i] = airport_dict[origin_dataset['出发机场'].values[i]][1]\n",
    "    origin_dataset['到达经度'].values[i] = airport_dict[origin_dataset['到达机场'].values[i]][0]\n",
    "    origin_dataset['到达纬度'].values[i] = airport_dict[origin_dataset['到达机场'].values[i]][1]\n",
    "\n",
    "# 通过经纬度计算距离\n",
    "\n",
    "    origin_dataset['距离'].values[i] = geoDistance(origin_dataset['出发经度'].values[i], origin_dataset['出发纬度'].values[i], origin_dataset['到达经度'].values[i], origin_dataset['到达纬度'].values[i])\n",
    "    \n",
    "# origin_dataset['距离'] = geoDistance(airport[airport['机场编码'].values == origin_dataset['出发机场'].values]['经度'], airport[airport['机场编码'].values == origin_dataset['出发机场'].values]['纬度'], airport[airport['机场编码'].values == origin_dataset['到达机场'].values]['经度'], airport[airport['机场编码'].values == origin_dataset['到达机场'].values]['纬度'])\n",
    "'''\n",
    "\n"
   ]
  },
  {
   "cell_type": "code",
   "execution_count": 71,
   "metadata": {},
   "outputs": [],
   "source": [
    "# 读取./dataset/flight_reduced.csv\n",
    "reduced_dataset = pd.read_csv('./dataset/flight_reduced.csv')\n",
    "# 删除同一出发机场重复的计划出发的列\n",
    "reduced_dataset = reduced_dataset.drop_duplicates(subset=['出发机场', '计划出发日期'], keep='first')\n",
    "# 保存去重后的数据集\n",
    "reduced_dataset.to_csv('./dataset/flight_reduced_unique.csv', index=False)"
   ]
  },
  {
   "cell_type": "code",
   "execution_count": 78,
   "metadata": {},
   "outputs": [],
   "source": [
    "# 读取./dataset/flight_reduced_unique.csv\n",
    "reduced_unique_dataset = pd.read_csv('./dataset/flight_reduced_unique.csv')\n",
    "# 删除取消的航班\n",
    "reduced_unique_dataset = reduced_unique_dataset[reduced_unique_dataset['是否取消'] != '取消']\n",
    "# 保存去重后的数据集\n",
    "reduced_unique_dataset.to_csv('./dataset/flight_reduced_unique.csv', index=False)"
   ]
  },
  {
   "cell_type": "code",
   "execution_count": 21,
   "metadata": {},
   "outputs": [
    {
     "name": "stdout",
     "output_type": "stream",
     "text": [
      "延迟时间计算\n",
      "0.0 %\n",
      "4.295495743163719 %\n",
      "8.590991486327438 %\n",
      "12.886487229491156 %\n",
      "17.181982972654875 %\n",
      "21.47747871581859 %\n",
      "25.77297445898231 %\n",
      "30.06847020214603 %\n",
      "34.36396594530975 %\n",
      "38.65946168847347 %\n",
      "42.95495743163718 %\n",
      "47.2504531748009 %\n",
      "51.54594891796462 %\n",
      "55.841444661128335 %\n",
      "60.13694040429206 %\n",
      "64.43243614745577 %\n",
      "68.7279318906195 %\n",
      "73.02342763378321 %\n",
      "77.31892337694694 %\n",
      "81.61441912011065 %\n",
      "85.90991486327437 %\n",
      "90.20541060643808 %\n",
      "94.5009063496018 %\n",
      "98.79640209276552 %\n"
     ]
    }
   ],
   "source": [
    "# 读取./dataset/flight_reduced.csv\n",
    "reduced_unique_dataset = pd.read_csv('./dataset/flight_reduced.csv')\n",
    "# 计算延迟时间\n",
    "reduced_unique_dataset['出发延迟'] = (pd.to_datetime(reduced_unique_dataset['实际起飞时间'], unit='s') -  pd.to_datetime(reduced_unique_dataset['计划起飞时间'], unit='s')) / np.timedelta64(1, 'm')\n",
    "reduced_unique_dataset['到达延迟'] = (pd.to_datetime(reduced_unique_dataset['实际到达时间'], unit='s') -  pd.to_datetime(reduced_unique_dataset['计划到达时间'], unit='s')) / np.timedelta64(1, 'm')\n",
    "print('延迟时间计算')\n",
    "# 计算出发经纬度与到达经纬度\n",
    "for i in range(len(reduced_unique_dataset)):\n",
    "    # 通过airport_dict创建出发经纬度与到达经纬度\n",
    "    \n",
    "    reduced_unique_dataset['出发经度'].values[i] = airport_dict[reduced_unique_dataset['出发机场'].values[i]][0]\n",
    "    reduced_unique_dataset['出发纬度'].values[i] = airport_dict[reduced_unique_dataset['出发机场'].values[i]][1]\n",
    "    reduced_unique_dataset['到达经度'].values[i] = airport_dict[reduced_unique_dataset['到达机场'].values[i]][0]\n",
    "    reduced_unique_dataset['到达纬度'].values[i] = airport_dict[reduced_unique_dataset['到达机场'].values[i]][1]\n",
    "    # 通过经纬度计算距离\n",
    "    \n",
    "    reduced_unique_dataset['距离'].values[i] = geoDistance(reduced_unique_dataset['出发经度'].values[i], reduced_unique_dataset['出发纬度'].values[i], reduced_unique_dataset['到达经度'].values[i], reduced_unique_dataset['到达纬度'].values[i])\n",
    "    if(i % 100000) == 0:\n",
    "        print(i/len(reduced_unique_dataset)*100, '%')\n",
    "# 保存计算后的数据集\n",
    "reduced_unique_dataset.to_csv('./dataset/flight_reduced_calculated.csv', index=False)"
   ]
  },
  {
   "cell_type": "markdown",
   "metadata": {},
   "source": [
    "# 删除多余的列"
   ]
  },
  {
   "cell_type": "code",
   "execution_count": 22,
   "metadata": {},
   "outputs": [],
   "source": [
    "# 读取./dataset/flight_reduced_calculated.csv\n",
    "reduced_calculated_dataset = pd.read_csv('./dataset/flight_reduced_calculated.csv')\n",
    "# 删除多余的列\n",
    "reduced_calculated_dataset = reduced_calculated_dataset.drop(['计划起飞时间', '计划到达时间', '实际起飞时间', '实际到达时间', '航班是否取消', '实际到达时间', '出发经度', '出发纬度', '到达经度', '到达纬度'], axis=1)\n",
    "\n",
    "# 保存计算后的数据集\n",
    "reduced_calculated_dataset.to_csv('./dataset/flight_reduced_calculated.csv', index=False)"
   ]
  },
  {
   "cell_type": "code",
   "execution_count": 23,
   "metadata": {},
   "outputs": [],
   "source": [
    "# 读取./dataset/flight_reduced_calculated.csv\n",
    "reduced_calculated_dataset = pd.read_csv('./dataset/flight_final.csv')\n",
    "# 删除多余的列\n",
    "reduced_calculated_dataset = reduced_calculated_dataset.drop(['飞机编号'], axis=1)\n",
    "\n",
    "# 保存计算后的数据集\n",
    "reduced_calculated_dataset.to_csv('./dataset/flight_final.csv', index=False)"
   ]
  },
  {
   "cell_type": "code",
   "execution_count": 25,
   "metadata": {},
   "outputs": [],
   "source": [
    "# 读取./dataset/flight_final.csv\n",
    "dataset = pd.read_csv('./dataset/flight_final.csv')\n",
    "\n",
    "# 删除多余的列\n",
    "dataset = dataset.drop(['计划到达日期','实际出发日期','实际到达日期','到达延迟'], axis=1)\n",
    "\n",
    "# 保存\n",
    "dataset.to_csv('./dataset/flight_final.csv', index=False)"
   ]
  },
  {
   "cell_type": "code",
   "execution_count": 3,
   "metadata": {},
   "outputs": [
    {
     "name": "stdout",
     "output_type": "stream",
     "text": [
      "0.0 %\n",
      "4.295495743163719 %\n",
      "8.590991486327438 %\n",
      "12.886487229491156 %\n",
      "17.181982972654875 %\n",
      "21.47747871581859 %\n",
      "25.77297445898231 %\n",
      "30.06847020214603 %\n",
      "34.36396594530975 %\n",
      "38.65946168847347 %\n",
      "42.95495743163718 %\n",
      "47.2504531748009 %\n",
      "51.54594891796462 %\n",
      "55.841444661128335 %\n",
      "60.13694040429206 %\n",
      "64.43243614745577 %\n",
      "68.7279318906195 %\n",
      "73.02342763378321 %\n",
      "77.31892337694694 %\n",
      "81.61441912011065 %\n",
      "85.90991486327437 %\n",
      "90.20541060643808 %\n",
      "94.5009063496018 %\n",
      "98.79640209276552 %\n"
     ]
    }
   ],
   "source": [
    "# 读取./dataset/flight_final.csv\n",
    "dataset = pd.read_csv('./dataset/flight_final.csv')\n",
    "\n",
    "dataset['年'] = str(0)\n",
    "dataset['月'] = str(0)\n",
    "dataset['日'] = str(0)\n",
    "dataset['时间'] = str(0)\n",
    "\n",
    "# 将计划出发日期转换为年,月,日,起飞时间的列\n",
    "for i in range(len(dataset)):\n",
    "    dataset['年'].values[i] = dataset['计划出发日期'].values[i][0:4]\n",
    "    dataset['月'].values[i] = dataset['计划出发日期'].values[i][5:7]\n",
    "    dataset['日'].values[i] = dataset['计划出发日期'].values[i][8:10]\n",
    "    dataset['时间'].values[i] = dataset['计划出发日期'].values[i][11:19]\n",
    "    # print(dataset['年'].values[i], dataset['月'].values[i], dataset['日'].values[i], dataset['时间'].values[i])\n",
    "    if(i % 100000) == 0:\n",
    "        print(i/len(dataset)*100, '%')\n",
    "# 删除计划出发日期行\n",
    "dataset = dataset.drop(['计划出发日期'], axis=1)\n",
    "# 保存\n",
    "dataset.to_csv('./dataset/flight_final.csv', index=False)"
   ]
  },
  {
   "cell_type": "markdown",
   "metadata": {},
   "source": [
    "# 出发延迟转化为分类预测对象"
   ]
  },
  {
   "cell_type": "code",
   "execution_count": 8,
   "metadata": {},
   "outputs": [
    {
     "name": "stdout",
     "output_type": "stream",
     "text": [
      "0.0 %\n",
      "4.310417287187155 %\n",
      "8.62083457437431 %\n",
      "12.931251861561465 %\n",
      "17.24166914874862 %\n",
      "21.552086435935777 %\n",
      "25.86250372312293 %\n",
      "30.172921010310088 %\n",
      "34.48333829749724 %\n",
      "38.7937555846844 %\n",
      "43.104172871871555 %\n",
      "47.414590159058704 %\n",
      "51.72500744624586 %\n",
      "56.03542473343302 %\n",
      "60.345842020620175 %\n",
      "64.65625930780733 %\n",
      "68.96667659499448 %\n",
      "73.27709388218165 %\n",
      "77.5875111693688 %\n",
      "81.89792845655595 %\n",
      "86.20834574374311 %\n",
      "90.51876303093026 %\n",
      "94.82918031811741 %\n",
      "99.13959760530457 %\n"
     ]
    }
   ],
   "source": [
    "# 读取./dataset/flight_final.csv\n",
    "dataset = pd.read_csv('./dataset/flight_final.csv')\n",
    "\n",
    "# 根据出发延迟的大小,写入新的'延迟程度'列\n",
    "for i in range(len(dataset)):\n",
    "    if dataset['延迟程度'].values[i] == '正常':\n",
    "        dataset['延迟程度'].values[i] = 0\n",
    "    elif dataset['延迟程度'].values[i] == '轻度':\n",
    "        dataset['延迟程度'].values[i] = 1\n",
    "    elif dataset['延迟程度'].values[i] == '中度':\n",
    "        dataset['延迟程度'].values[i] = 2\n",
    "    elif dataset['延迟程度'].values[i] == '严重':\n",
    "        dataset['延迟程度'].values[i] = 3\n",
    "\n",
    "    if(i % 100000) == 0:\n",
    "        print(i/len(dataset)*100, '%')\n",
    "# 删除出发延迟行\n",
    "# dataset = dataset.drop(['出发延迟'], axis=1)\n",
    "# 保存\n",
    "dataset.to_csv('./dataset/flight_final.csv', index=False)\n"
   ]
  },
  {
   "cell_type": "code",
   "execution_count": 5,
   "metadata": {},
   "outputs": [],
   "source": [
    "# 读取./dataset/flight_final.csv\n",
    "dataset = pd.read_csv('./dataset/flight_final.csv')\n",
    "\n",
    "# 去除延迟程度中的0\n",
    "dataset = dataset[dataset['延迟程度'] != '0']\n",
    "# 保存\n",
    "dataset.to_csv('./dataset/flight_final.csv', index=False)"
   ]
  }
 ],
 "metadata": {
  "kernelspec": {
   "display_name": "Python 3.9.13 64-bit",
   "language": "python",
   "name": "python3"
  },
  "language_info": {
   "codemirror_mode": {
    "name": "ipython",
    "version": 3
   },
   "file_extension": ".py",
   "mimetype": "text/x-python",
   "name": "python",
   "nbconvert_exporter": "python",
   "pygments_lexer": "ipython3",
   "version": "3.9.13"
  },
  "orig_nbformat": 4,
  "vscode": {
   "interpreter": {
    "hash": "6efa788cb94cb17b6d18a0713a162526dde847b9fce190a5e1ec27ce6e1c4702"
   }
  }
 },
 "nbformat": 4,
 "nbformat_minor": 2
}
