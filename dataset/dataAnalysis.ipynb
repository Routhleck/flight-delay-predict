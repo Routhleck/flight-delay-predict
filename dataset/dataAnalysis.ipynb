{
 "cells": [
  {
   "cell_type": "markdown",
   "metadata": {},
   "source": [
    "# 数据分析"
   ]
  },
  {
   "cell_type": "code",
   "execution_count": null,
   "metadata": {},
   "outputs": [],
   "source": [
    "import pandas as pd\n",
    "import matplotlib.pyplot as plt\n",
    "import numpy as np\n",
    "import seaborn as sns\n",
    "from scipy import stats\n",
    "from scipy.stats import norm\n",
    "from sklearn import preprocessing, metrics, svm\n",
    "from sklearn.model_selection import train_test_split, GridSearchCV\n",
    "import xgboost as xgb\n",
    "from xgboost import plot_importance"
   ]
  },
  {
   "cell_type": "markdown",
   "metadata": {},
   "source": [
    "## 读取数据"
   ]
  },
  {
   "cell_type": "code",
   "execution_count": null,
   "metadata": {},
   "outputs": [],
   "source": [
    "# 读取训练集\n",
    "data_train = pd.read_csv('flight_final.csv')"
   ]
  },
  {
   "cell_type": "markdown",
   "metadata": {},
   "source": [
    "## 数据统计"
   ]
  },
  {
   "cell_type": "code",
   "execution_count": null,
   "metadata": {},
   "outputs": [],
   "source": [
    "print(data_train['延迟程度'].describe())"
   ]
  },
  {
   "cell_type": "markdown",
   "metadata": {},
   "source": [
    "## 直方图体现"
   ]
  },
  {
   "cell_type": "code",
   "execution_count": null,
   "metadata": {},
   "outputs": [],
   "source": [
    "# 延迟程度频次统计图\n",
    "plt.figure(figsize=(12, 6))\n",
    "sns.countplot(x='延迟程度', data=data_train)\n",
    "plt.show()\n",
    "\n",
    "\n",
    "\n",
    "'''\n",
    "plt.rcParams['font.sans-serif'] = ['SimHei']  # 用来正常显示中文标签\n",
    "plt.rcParams['axes.unicode_minus'] = False  # 用来正常显示负号\n",
    "sns.distplot(data_train['延迟程度'], color=\"r\")\n",
    "# sns.distplot(data_train['到达延迟'], color=\"b\")\n",
    "plt.title(\"到达延迟直方图\")\n",
    "plt.show()\n",
    "'''"
   ]
  },
  {
   "cell_type": "markdown",
   "metadata": {},
   "source": [
    "## 相关性分析"
   ]
  },
  {
   "cell_type": "code",
   "execution_count": null,
   "metadata": {},
   "outputs": [],
   "source": [
    "# 将出发机场,到达机场,航班编号,计划出发日期转换为数值"
   ]
  },
  {
   "cell_type": "code",
   "execution_count": null,
   "metadata": {},
   "outputs": [],
   "source": [
    "# 为出发机场,到达机场,航班编号,年,月,日,时间 字符串转化为可训练的变量\n",
    "data_train['出发机场'] = data_train['出发机场'].astype('category')\n",
    "data_train['到达机场'] = data_train['到达机场'].astype('category')\n",
    "data_train['航班编号'] = data_train['航班编号'].astype('category')\n",
    "\n",
    "# 字典映射编码\n",
    "data_train['出发机场'] = data_train['出发机场'].cat.codes\n",
    "data_train['到达机场'] = data_train['到达机场'].cat.codes\n",
    "data_train['航班编号'] = data_train['航班编号'].cat.codes\n",
    "\n",
    "# 延迟程度转化为one-hot编码\n",
    "data_train['延迟程度'] = data_train['延迟程度'].astype('category')\n",
    "data_train['延迟程度'] = data_train['延迟程度'].cat.codes\n"
   ]
  },
  {
   "cell_type": "code",
   "execution_count": null,
   "metadata": {},
   "outputs": [],
   "source": [
    "df_tmp1 = data_train[\n",
    "    ['出发机场','到达机场','航班编号','距离','平均温度','最高温度','最低温度','降水量','气压','风向','风速','年','月','日','时间','延迟程度']]\n",
    "plt.rcParams['font.sans-serif'] = ['SimHei']  # 指定默认字体\n",
    "plt.rcParams['axes.unicode_minus'] = False  # 解决保存图像是负号'-'显示为方块的问题\n",
    "# 图片放大\n",
    "plt.figure(figsize=(12, 6))\n",
    "sns.heatmap(df_tmp1.corr(), cmap=\"YlGnBu\", annot=True)\n",
    "plt.title(\"相关性分析图\")\n",
    "plt.show()"
   ]
  }
 ],
 "metadata": {
  "kernelspec": {
   "display_name": "Python 3.9.13 64-bit",
   "language": "python",
   "name": "python3"
  },
  "language_info": {
   "codemirror_mode": {
    "name": "ipython",
    "version": 3
   },
   "file_extension": ".py",
   "mimetype": "text/x-python",
   "name": "python",
   "nbconvert_exporter": "python",
   "pygments_lexer": "ipython3",
   "version": "3.9.13"
  },
  "orig_nbformat": 4,
  "vscode": {
   "interpreter": {
    "hash": "6efa788cb94cb17b6d18a0713a162526dde847b9fce190a5e1ec27ce6e1c4702"
   }
  }
 },
 "nbformat": 4,
 "nbformat_minor": 2
}
